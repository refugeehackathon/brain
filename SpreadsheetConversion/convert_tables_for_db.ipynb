{
 "cells": [
  {
   "cell_type": "markdown",
   "metadata": {},
   "source": [
    "# Table Conversions"
   ]
  },
  {
   "cell_type": "code",
   "execution_count": 1,
   "metadata": {
    "collapsed": true
   },
   "outputs": [],
   "source": [
    "import requests"
   ]
  },
  {
   "cell_type": "code",
   "execution_count": 2,
   "metadata": {
    "collapsed": true
   },
   "outputs": [],
   "source": [
    "from io import BytesIO"
   ]
  },
  {
   "cell_type": "code",
   "execution_count": 3,
   "metadata": {
    "collapsed": true
   },
   "outputs": [],
   "source": [
    "import pandas as pd"
   ]
  },
  {
   "cell_type": "code",
   "execution_count": 4,
   "metadata": {
    "collapsed": true
   },
   "outputs": [],
   "source": [
    "spreadsheet_url = \"https://docs.google.com/spreadsheets/d/1WbYov7KrliIvh9Ei485zxPF27Wx7-CYFZliNj3hZ9WE\""
   ]
  },
  {
   "cell_type": "code",
   "execution_count": 5,
   "metadata": {
    "collapsed": false
   },
   "outputs": [],
   "source": [
    "stream = requests.get(\"{0}/export?format=xlsx\".format(spreadsheet_url))"
   ]
  },
  {
   "cell_type": "code",
   "execution_count": 6,
   "metadata": {
    "collapsed": false
   },
   "outputs": [],
   "source": [
    "full_table = pd.read_excel(BytesIO(stream.content), sheetname=\"Project-DB\")"
   ]
  },
  {
   "cell_type": "code",
   "execution_count": 7,
   "metadata": {
    "collapsed": false
   },
   "outputs": [
    {
     "data": {
      "text/html": [
       "<div>\n",
       "<table border=\"1\" class=\"dataframe\">\n",
       "  <thead>\n",
       "    <tr style=\"text-align: right;\">\n",
       "      <th></th>\n",
       "      <th>url</th>\n",
       "      <th>title</th>\n",
       "      <th>kind</th>\n",
       "      <th>area</th>\n",
       "      <th>status</th>\n",
       "      <th>description</th>\n",
       "      <th>logo</th>\n",
       "      <th>hashtags</th>\n",
       "      <th>categories</th>\n",
       "      <th>orgacontact_name</th>\n",
       "      <th>...</th>\n",
       "      <th>code_repository</th>\n",
       "      <th>programming_languages</th>\n",
       "      <th>languages</th>\n",
       "      <th>organization_type</th>\n",
       "      <th>organization_name</th>\n",
       "      <th>code_license</th>\n",
       "      <th>releasedate</th>\n",
       "      <th>entrydate</th>\n",
       "      <th>software_development_needs</th>\n",
       "      <th>random_generated_key</th>\n",
       "    </tr>\n",
       "  </thead>\n",
       "  <tbody>\n",
       "    <tr>\n",
       "      <th>0</th>\n",
       "      <td>http://afeefa.de/</td>\n",
       "      <td>Afeefa</td>\n",
       "      <td>website</td>\n",
       "      <td>Dresden</td>\n",
       "      <td>NaN</td>\n",
       "      <td>commented map for Dresden, including lots of d...</td>\n",
       "      <td>NaN</td>\n",
       "      <td>NaN</td>\n",
       "      <td>information, map, event, donation, material</td>\n",
       "      <td>NaN</td>\n",
       "      <td>...</td>\n",
       "      <td>NaN</td>\n",
       "      <td>NaN</td>\n",
       "      <td>German, English, Arabic, Farsi, French, Serbia...</td>\n",
       "      <td>NaN</td>\n",
       "      <td>NaN</td>\n",
       "      <td>NaN</td>\n",
       "      <td>NaN</td>\n",
       "      <td>NaN</td>\n",
       "      <td>NaN</td>\n",
       "      <td>NaN</td>\n",
       "    </tr>\n",
       "    <tr>\n",
       "      <th>1</th>\n",
       "      <td>http://asyl-in-moenchengladbach.de</td>\n",
       "      <td>Asyl in Mönchengladbach</td>\n",
       "      <td>website</td>\n",
       "      <td>Mönchengladbach</td>\n",
       "      <td>NaN</td>\n",
       "      <td>Vernetzungsportal für Hilfsangebote und Hilfes...</td>\n",
       "      <td>NaN</td>\n",
       "      <td>NaN</td>\n",
       "      <td>coordination, donation, volunteer, information</td>\n",
       "      <td>NaN</td>\n",
       "      <td>...</td>\n",
       "      <td>NaN</td>\n",
       "      <td>NaN</td>\n",
       "      <td>Google Translate</td>\n",
       "      <td>NaN</td>\n",
       "      <td>NaN</td>\n",
       "      <td>NaN</td>\n",
       "      <td>NaN</td>\n",
       "      <td>NaN</td>\n",
       "      <td>NaN</td>\n",
       "      <td>NaN</td>\n",
       "    </tr>\n",
       "    <tr>\n",
       "      <th>2</th>\n",
       "      <td>http://familylinks.icrc.org/europe/en/Pages/Ho...</td>\n",
       "      <td>Trace the face</td>\n",
       "      <td>website</td>\n",
       "      <td>international</td>\n",
       "      <td>NaN</td>\n",
       "      <td>A number of National Red Cross Societies in Eu...</td>\n",
       "      <td>NaN</td>\n",
       "      <td>NaN</td>\n",
       "      <td>coordination, family reunion,</td>\n",
       "      <td>NaN</td>\n",
       "      <td>...</td>\n",
       "      <td>NaN</td>\n",
       "      <td>NaN</td>\n",
       "      <td>English, Arabic, French, Spanish</td>\n",
       "      <td>NaN</td>\n",
       "      <td>NaN</td>\n",
       "      <td>NaN</td>\n",
       "      <td>NaN</td>\n",
       "      <td>NaN</td>\n",
       "      <td>NaN</td>\n",
       "      <td>NaN</td>\n",
       "    </tr>\n",
       "    <tr>\n",
       "      <th>3</th>\n",
       "      <td>http://germany-says-welcome.de/</td>\n",
       "      <td>Germany Says Welcome</td>\n",
       "      <td>Website, App,</td>\n",
       "      <td>Germany</td>\n",
       "      <td>NaN</td>\n",
       "      <td>Helping refugees by providing a map with all a...</td>\n",
       "      <td>NaN</td>\n",
       "      <td>NaN</td>\n",
       "      <td>information, map, volunteer, refugee</td>\n",
       "      <td>NaN</td>\n",
       "      <td>...</td>\n",
       "      <td>NaN</td>\n",
       "      <td>Weblanguages, Android Framework, Java (so far)</td>\n",
       "      <td>English, German (Translation part is Arabic too)</td>\n",
       "      <td>NaN</td>\n",
       "      <td>NaN</td>\n",
       "      <td>NaN</td>\n",
       "      <td>NaN</td>\n",
       "      <td>NaN</td>\n",
       "      <td>NaN</td>\n",
       "      <td>NaN</td>\n",
       "    </tr>\n",
       "    <tr>\n",
       "      <th>4</th>\n",
       "      <td>http://github.com/finngaida/refugees</td>\n",
       "      <td>Moin Refugees!</td>\n",
       "      <td>App</td>\n",
       "      <td>Hamburg so far</td>\n",
       "      <td>NaN</td>\n",
       "      <td>Help refugees and helpers communicate via the ...</td>\n",
       "      <td>NaN</td>\n",
       "      <td>NaN</td>\n",
       "      <td>instant help</td>\n",
       "      <td>NaN</td>\n",
       "      <td>...</td>\n",
       "      <td>NaN</td>\n",
       "      <td>Objective-C, Java EE</td>\n",
       "      <td>English, german</td>\n",
       "      <td>NaN</td>\n",
       "      <td>NaN</td>\n",
       "      <td>NaN</td>\n",
       "      <td>NaN</td>\n",
       "      <td>NaN</td>\n",
       "      <td>NaN</td>\n",
       "      <td>NaN</td>\n",
       "    </tr>\n",
       "  </tbody>\n",
       "</table>\n",
       "<p>5 rows × 32 columns</p>\n",
       "</div>"
      ],
      "text/plain": [
       "                                                 url                    title  \\\n",
       "0                                  http://afeefa.de/                   Afeefa   \n",
       "1                 http://asyl-in-moenchengladbach.de  Asyl in Mönchengladbach   \n",
       "2  http://familylinks.icrc.org/europe/en/Pages/Ho...           Trace the face   \n",
       "3                    http://germany-says-welcome.de/     Germany Says Welcome   \n",
       "4               http://github.com/finngaida/refugees           Moin Refugees!   \n",
       "\n",
       "             kind             area status  \\\n",
       "0         website          Dresden    NaN   \n",
       "1         website  Mönchengladbach    NaN   \n",
       "2         website    international    NaN   \n",
       "3  Website, App,           Germany    NaN   \n",
       "4             App   Hamburg so far    NaN   \n",
       "\n",
       "                                         description  logo  hashtags  \\\n",
       "0  commented map for Dresden, including lots of d...   NaN       NaN   \n",
       "1  Vernetzungsportal für Hilfsangebote und Hilfes...   NaN       NaN   \n",
       "2  A number of National Red Cross Societies in Eu...   NaN       NaN   \n",
       "3  Helping refugees by providing a map with all a...   NaN       NaN   \n",
       "4  Help refugees and helpers communicate via the ...   NaN       NaN   \n",
       "\n",
       "                                       categories orgacontact_name  \\\n",
       "0     information, map, event, donation, material              NaN   \n",
       "1  coordination, donation, volunteer, information              NaN   \n",
       "2                   coordination, family reunion,              NaN   \n",
       "3            information, map, volunteer, refugee              NaN   \n",
       "4                                    instant help              NaN   \n",
       "\n",
       "          ...          code_repository  \\\n",
       "0         ...                      NaN   \n",
       "1         ...                      NaN   \n",
       "2         ...                      NaN   \n",
       "3         ...                      NaN   \n",
       "4         ...                      NaN   \n",
       "\n",
       "                            programming_languages  \\\n",
       "0                                             NaN   \n",
       "1                                             NaN   \n",
       "2                                             NaN   \n",
       "3  Weblanguages, Android Framework, Java (so far)   \n",
       "4                            Objective-C, Java EE   \n",
       "\n",
       "                                           languages organization_type  \\\n",
       "0  German, English, Arabic, Farsi, French, Serbia...               NaN   \n",
       "1                                   Google Translate               NaN   \n",
       "2                   English, Arabic, French, Spanish               NaN   \n",
       "3   English, German (Translation part is Arabic too)               NaN   \n",
       "4                                    English, german               NaN   \n",
       "\n",
       "  organization_name  code_license  releasedate  entrydate  \\\n",
       "0               NaN           NaN          NaN        NaN   \n",
       "1               NaN           NaN          NaN        NaN   \n",
       "2               NaN           NaN          NaN        NaN   \n",
       "3               NaN           NaN          NaN        NaN   \n",
       "4               NaN           NaN          NaN        NaN   \n",
       "\n",
       "   software_development_needs random_generated_key  \n",
       "0                         NaN                  NaN  \n",
       "1                         NaN                  NaN  \n",
       "2                         NaN                  NaN  \n",
       "3                         NaN                  NaN  \n",
       "4                         NaN                  NaN  \n",
       "\n",
       "[5 rows x 32 columns]"
      ]
     },
     "execution_count": 7,
     "metadata": {},
     "output_type": "execute_result"
    }
   ],
   "source": [
    "full_table.head()"
   ]
  },
  {
   "cell_type": "code",
   "execution_count": 8,
   "metadata": {
    "collapsed": true
   },
   "outputs": [],
   "source": [
    "curated = full_table[:38]"
   ]
  },
  {
   "cell_type": "code",
   "execution_count": 9,
   "metadata": {
    "collapsed": false,
    "scrolled": true
   },
   "outputs": [
    {
     "data": {
      "text/plain": [
       "Index(['url', 'title', 'kind', 'area', 'status', 'description', 'logo',\n",
       "       'hashtags', 'categories', 'orgacontact_name', 'orgacontact_email',\n",
       "       'orgacontact_language', 'contact_email', 'contact_phone',\n",
       "       'contact_socialmedia_fb', 'contact_socialmedia_twitter',\n",
       "       'contact_adress_street', 'contact_adress_housenr',\n",
       "       'contact_adress_postalcode', 'contact_adress_city',\n",
       "       'contact_adress_state', 'contact_adress_country', 'code_repository',\n",
       "       'programming_languages', 'languages', 'organization_type',\n",
       "       'organization_name', 'code_license', 'releasedate', 'entrydate',\n",
       "       'software_development_needs', 'random_generated_key'],\n",
       "      dtype='object')"
      ]
     },
     "execution_count": 9,
     "metadata": {},
     "output_type": "execute_result"
    }
   ],
   "source": [
    "curated.columns"
   ]
  },
  {
   "cell_type": "markdown",
   "metadata": {},
   "source": [
    "The following columns are ignored for later processing:\n",
    "* kind, is a category\n",
    "* area, is geospatial information\n",
    "* status, has categories\n",
    "* hashtags, become project tags\n",
    "* categories, need to be merged with our list\n",
    "* orgacontact_\\*, will become part of contact information\n",
    "* contact_\\*, will become part of contact information\n",
    "* programming_languages, are categories\n",
    "* languages, part of contact details\n",
    "* organization_type, is a category\n",
    "* entrydate, automatic DB entry\n",
    "* software_development_needs, is now a Boolean 'dev_support_needed' combined with categories of platform, etc.\n",
    "* random_generated_key, should be part of the user information who is entitled to modifying the DB"
   ]
  },
  {
   "cell_type": "markdown",
   "metadata": {},
   "source": [
    "## Create Primary 'projects' Table"
   ]
  },
  {
   "cell_type": "code",
   "execution_count": 10,
   "metadata": {
    "collapsed": true
   },
   "outputs": [],
   "source": [
    "matching = {\n",
    "    \"url\": \"web_url\",\n",
    "    \"title\": \"title\",\n",
    "    \"description\": \"description_content\",\n",
    "    \"logo\": \"logo_url\",\n",
    "    \"code_repository\": \"repository_url\",\n",
    "    \"organization_name\": \"organization_name\",\n",
    "    \"code_license\": \"code_license\",\n",
    "    \"releasedate\": \"publishedAt\"\n",
    "}"
   ]
  },
  {
   "cell_type": "code",
   "execution_count": 11,
   "metadata": {
    "collapsed": true
   },
   "outputs": [],
   "source": [
    "projects_columns = [\"id\", \"user_id\", \"title\", \"description_tech\", \"description_content\",\n",
    "              \"code_license\", \"data_license\", \"logo_url\", \"web_url\", \"repository_url\",\n",
    "              \"organization_name\", \"dev_support_needed\", \"general_support_needed\",\n",
    "              \"publishedAt\", \"createddAt\", \"updatedAt\"]"
   ]
  },
  {
   "cell_type": "code",
   "execution_count": 12,
   "metadata": {
    "collapsed": false
   },
   "outputs": [],
   "source": [
    "projects_export = curated[list(matching.keys())].copy()\n",
    "projects_export.columns = [matching[key] for key in projects_export.columns]\n",
    "projects_export[\"id\"] = projects_export.index + 1"
   ]
  },
  {
   "cell_type": "code",
   "execution_count": 13,
   "metadata": {
    "collapsed": false
   },
   "outputs": [],
   "source": [
    "for key in projects_columns:\n",
    "    if key not in projects_export.columns:\n",
    "        projects_export[key] = None"
   ]
  },
  {
   "cell_type": "code",
   "execution_count": 14,
   "metadata": {
    "collapsed": false
   },
   "outputs": [
    {
     "data": {
      "text/html": [
       "<div>\n",
       "<table border=\"1\" class=\"dataframe\">\n",
       "  <thead>\n",
       "    <tr style=\"text-align: right;\">\n",
       "      <th></th>\n",
       "      <th>repository_url</th>\n",
       "      <th>web_url</th>\n",
       "      <th>code_license</th>\n",
       "      <th>title</th>\n",
       "      <th>logo_url</th>\n",
       "      <th>publishedAt</th>\n",
       "      <th>organization_name</th>\n",
       "      <th>description_content</th>\n",
       "      <th>id</th>\n",
       "      <th>user_id</th>\n",
       "      <th>description_tech</th>\n",
       "      <th>data_license</th>\n",
       "      <th>dev_support_needed</th>\n",
       "      <th>general_support_needed</th>\n",
       "      <th>createddAt</th>\n",
       "      <th>updatedAt</th>\n",
       "    </tr>\n",
       "  </thead>\n",
       "  <tbody>\n",
       "    <tr>\n",
       "      <th>0</th>\n",
       "      <td>NaN</td>\n",
       "      <td>http://afeefa.de/</td>\n",
       "      <td>NaN</td>\n",
       "      <td>Afeefa</td>\n",
       "      <td>NaN</td>\n",
       "      <td>NaN</td>\n",
       "      <td>NaN</td>\n",
       "      <td>commented map for Dresden, including lots of d...</td>\n",
       "      <td>1</td>\n",
       "      <td>None</td>\n",
       "      <td>None</td>\n",
       "      <td>None</td>\n",
       "      <td>None</td>\n",
       "      <td>None</td>\n",
       "      <td>None</td>\n",
       "      <td>None</td>\n",
       "    </tr>\n",
       "    <tr>\n",
       "      <th>1</th>\n",
       "      <td>NaN</td>\n",
       "      <td>http://asyl-in-moenchengladbach.de</td>\n",
       "      <td>NaN</td>\n",
       "      <td>Asyl in Mönchengladbach</td>\n",
       "      <td>NaN</td>\n",
       "      <td>NaN</td>\n",
       "      <td>NaN</td>\n",
       "      <td>Vernetzungsportal für Hilfsangebote und Hilfes...</td>\n",
       "      <td>2</td>\n",
       "      <td>None</td>\n",
       "      <td>None</td>\n",
       "      <td>None</td>\n",
       "      <td>None</td>\n",
       "      <td>None</td>\n",
       "      <td>None</td>\n",
       "      <td>None</td>\n",
       "    </tr>\n",
       "    <tr>\n",
       "      <th>2</th>\n",
       "      <td>NaN</td>\n",
       "      <td>http://familylinks.icrc.org/europe/en/Pages/Ho...</td>\n",
       "      <td>NaN</td>\n",
       "      <td>Trace the face</td>\n",
       "      <td>NaN</td>\n",
       "      <td>NaN</td>\n",
       "      <td>NaN</td>\n",
       "      <td>A number of National Red Cross Societies in Eu...</td>\n",
       "      <td>3</td>\n",
       "      <td>None</td>\n",
       "      <td>None</td>\n",
       "      <td>None</td>\n",
       "      <td>None</td>\n",
       "      <td>None</td>\n",
       "      <td>None</td>\n",
       "      <td>None</td>\n",
       "    </tr>\n",
       "    <tr>\n",
       "      <th>3</th>\n",
       "      <td>NaN</td>\n",
       "      <td>http://germany-says-welcome.de/</td>\n",
       "      <td>NaN</td>\n",
       "      <td>Germany Says Welcome</td>\n",
       "      <td>NaN</td>\n",
       "      <td>NaN</td>\n",
       "      <td>NaN</td>\n",
       "      <td>Helping refugees by providing a map with all a...</td>\n",
       "      <td>4</td>\n",
       "      <td>None</td>\n",
       "      <td>None</td>\n",
       "      <td>None</td>\n",
       "      <td>None</td>\n",
       "      <td>None</td>\n",
       "      <td>None</td>\n",
       "      <td>None</td>\n",
       "    </tr>\n",
       "    <tr>\n",
       "      <th>4</th>\n",
       "      <td>NaN</td>\n",
       "      <td>http://github.com/finngaida/refugees</td>\n",
       "      <td>NaN</td>\n",
       "      <td>Moin Refugees!</td>\n",
       "      <td>NaN</td>\n",
       "      <td>NaN</td>\n",
       "      <td>NaN</td>\n",
       "      <td>Help refugees and helpers communicate via the ...</td>\n",
       "      <td>5</td>\n",
       "      <td>None</td>\n",
       "      <td>None</td>\n",
       "      <td>None</td>\n",
       "      <td>None</td>\n",
       "      <td>None</td>\n",
       "      <td>None</td>\n",
       "      <td>None</td>\n",
       "    </tr>\n",
       "  </tbody>\n",
       "</table>\n",
       "</div>"
      ],
      "text/plain": [
       "   repository_url                                            web_url  \\\n",
       "0             NaN                                  http://afeefa.de/   \n",
       "1             NaN                 http://asyl-in-moenchengladbach.de   \n",
       "2             NaN  http://familylinks.icrc.org/europe/en/Pages/Ho...   \n",
       "3             NaN                    http://germany-says-welcome.de/   \n",
       "4             NaN               http://github.com/finngaida/refugees   \n",
       "\n",
       "   code_license                    title  logo_url  publishedAt  \\\n",
       "0           NaN                   Afeefa       NaN          NaN   \n",
       "1           NaN  Asyl in Mönchengladbach       NaN          NaN   \n",
       "2           NaN           Trace the face       NaN          NaN   \n",
       "3           NaN     Germany Says Welcome       NaN          NaN   \n",
       "4           NaN           Moin Refugees!       NaN          NaN   \n",
       "\n",
       "  organization_name                                description_content  id  \\\n",
       "0               NaN  commented map for Dresden, including lots of d...   1   \n",
       "1               NaN  Vernetzungsportal für Hilfsangebote und Hilfes...   2   \n",
       "2               NaN  A number of National Red Cross Societies in Eu...   3   \n",
       "3               NaN  Helping refugees by providing a map with all a...   4   \n",
       "4               NaN  Help refugees and helpers communicate via the ...   5   \n",
       "\n",
       "  user_id description_tech data_license dev_support_needed  \\\n",
       "0    None             None         None               None   \n",
       "1    None             None         None               None   \n",
       "2    None             None         None               None   \n",
       "3    None             None         None               None   \n",
       "4    None             None         None               None   \n",
       "\n",
       "  general_support_needed createddAt updatedAt  \n",
       "0                   None       None      None  \n",
       "1                   None       None      None  \n",
       "2                   None       None      None  \n",
       "3                   None       None      None  \n",
       "4                   None       None      None  "
      ]
     },
     "execution_count": 14,
     "metadata": {},
     "output_type": "execute_result"
    }
   ],
   "source": [
    "projects_export.head()"
   ]
  },
  {
   "cell_type": "code",
   "execution_count": 15,
   "metadata": {
    "collapsed": false
   },
   "outputs": [],
   "source": [
    "projects_export.to_csv(\"projects.csv\", index=False, header=False, columns=projects_columns)"
   ]
  },
  {
   "cell_type": "markdown",
   "metadata": {},
   "source": [
    "## Create 'contact_informations'"
   ]
  },
  {
   "cell_type": "code",
   "execution_count": null,
   "metadata": {
    "collapsed": true
   },
   "outputs": [],
   "source": []
  },
  {
   "cell_type": "markdown",
   "metadata": {},
   "source": [
    "## Create 'projects_categories' Table"
   ]
  },
  {
   "cell_type": "code",
   "execution_count": 16,
   "metadata": {
    "collapsed": false
   },
   "outputs": [
    {
     "name": "stdout",
     "output_type": "stream",
     "text": [
      "89\n"
     ]
    },
    {
     "data": {
      "text/plain": [
       "0  0    information\n",
       "   1            map\n",
       "   2          event\n",
       "   3       donation\n",
       "   4       material\n",
       "dtype: object"
      ]
     },
     "execution_count": 16,
     "metadata": {},
     "output_type": "execute_result"
    }
   ],
   "source": [
    "s = pd.DataFrame(curated[\"categories\"].str.split(',').tolist()).stack()\n",
    "print(len(s))\n",
    "s.head()"
   ]
  },
  {
   "cell_type": "code",
   "execution_count": 17,
   "metadata": {
    "collapsed": false
   },
   "outputs": [],
   "source": [
    "s.index = s.index.droplevel(-1)"
   ]
  },
  {
   "cell_type": "code",
   "execution_count": 18,
   "metadata": {
    "collapsed": false
   },
   "outputs": [],
   "source": [
    "s.name = 'category'"
   ]
  },
  {
   "cell_type": "code",
   "execution_count": 19,
   "metadata": {
    "collapsed": false
   },
   "outputs": [
    {
     "data": {
      "text/plain": [
       "0    information\n",
       "0            map\n",
       "0          event\n",
       "0       donation\n",
       "0       material\n",
       "Name: category, dtype: object"
      ]
     },
     "execution_count": 19,
     "metadata": {},
     "output_type": "execute_result"
    }
   ],
   "source": [
    "s.head()"
   ]
  },
  {
   "cell_type": "code",
   "execution_count": 27,
   "metadata": {
    "collapsed": false
   },
   "outputs": [],
   "source": [
    "category_join = projects_export.join(s)"
   ]
  },
  {
   "cell_type": "code",
   "execution_count": 28,
   "metadata": {
    "collapsed": false
   },
   "outputs": [
    {
     "data": {
      "text/html": [
       "<div>\n",
       "<table border=\"1\" class=\"dataframe\">\n",
       "  <thead>\n",
       "    <tr style=\"text-align: right;\">\n",
       "      <th></th>\n",
       "      <th>repository_url</th>\n",
       "      <th>web_url</th>\n",
       "      <th>code_license</th>\n",
       "      <th>title</th>\n",
       "      <th>logo_url</th>\n",
       "      <th>publishedAt</th>\n",
       "      <th>organization_name</th>\n",
       "      <th>description_content</th>\n",
       "      <th>id</th>\n",
       "      <th>user_id</th>\n",
       "      <th>description_tech</th>\n",
       "      <th>data_license</th>\n",
       "      <th>dev_support_needed</th>\n",
       "      <th>general_support_needed</th>\n",
       "      <th>createddAt</th>\n",
       "      <th>updatedAt</th>\n",
       "      <th>category</th>\n",
       "    </tr>\n",
       "  </thead>\n",
       "  <tbody>\n",
       "    <tr>\n",
       "      <th>0</th>\n",
       "      <td>NaN</td>\n",
       "      <td>http://afeefa.de/</td>\n",
       "      <td>NaN</td>\n",
       "      <td>Afeefa</td>\n",
       "      <td>NaN</td>\n",
       "      <td>NaN</td>\n",
       "      <td>NaN</td>\n",
       "      <td>commented map for Dresden, including lots of d...</td>\n",
       "      <td>1</td>\n",
       "      <td>None</td>\n",
       "      <td>None</td>\n",
       "      <td>None</td>\n",
       "      <td>None</td>\n",
       "      <td>None</td>\n",
       "      <td>None</td>\n",
       "      <td>None</td>\n",
       "      <td>information</td>\n",
       "    </tr>\n",
       "    <tr>\n",
       "      <th>0</th>\n",
       "      <td>NaN</td>\n",
       "      <td>http://afeefa.de/</td>\n",
       "      <td>NaN</td>\n",
       "      <td>Afeefa</td>\n",
       "      <td>NaN</td>\n",
       "      <td>NaN</td>\n",
       "      <td>NaN</td>\n",
       "      <td>commented map for Dresden, including lots of d...</td>\n",
       "      <td>1</td>\n",
       "      <td>None</td>\n",
       "      <td>None</td>\n",
       "      <td>None</td>\n",
       "      <td>None</td>\n",
       "      <td>None</td>\n",
       "      <td>None</td>\n",
       "      <td>None</td>\n",
       "      <td>map</td>\n",
       "    </tr>\n",
       "    <tr>\n",
       "      <th>0</th>\n",
       "      <td>NaN</td>\n",
       "      <td>http://afeefa.de/</td>\n",
       "      <td>NaN</td>\n",
       "      <td>Afeefa</td>\n",
       "      <td>NaN</td>\n",
       "      <td>NaN</td>\n",
       "      <td>NaN</td>\n",
       "      <td>commented map for Dresden, including lots of d...</td>\n",
       "      <td>1</td>\n",
       "      <td>None</td>\n",
       "      <td>None</td>\n",
       "      <td>None</td>\n",
       "      <td>None</td>\n",
       "      <td>None</td>\n",
       "      <td>None</td>\n",
       "      <td>None</td>\n",
       "      <td>event</td>\n",
       "    </tr>\n",
       "    <tr>\n",
       "      <th>0</th>\n",
       "      <td>NaN</td>\n",
       "      <td>http://afeefa.de/</td>\n",
       "      <td>NaN</td>\n",
       "      <td>Afeefa</td>\n",
       "      <td>NaN</td>\n",
       "      <td>NaN</td>\n",
       "      <td>NaN</td>\n",
       "      <td>commented map for Dresden, including lots of d...</td>\n",
       "      <td>1</td>\n",
       "      <td>None</td>\n",
       "      <td>None</td>\n",
       "      <td>None</td>\n",
       "      <td>None</td>\n",
       "      <td>None</td>\n",
       "      <td>None</td>\n",
       "      <td>None</td>\n",
       "      <td>donation</td>\n",
       "    </tr>\n",
       "    <tr>\n",
       "      <th>0</th>\n",
       "      <td>NaN</td>\n",
       "      <td>http://afeefa.de/</td>\n",
       "      <td>NaN</td>\n",
       "      <td>Afeefa</td>\n",
       "      <td>NaN</td>\n",
       "      <td>NaN</td>\n",
       "      <td>NaN</td>\n",
       "      <td>commented map for Dresden, including lots of d...</td>\n",
       "      <td>1</td>\n",
       "      <td>None</td>\n",
       "      <td>None</td>\n",
       "      <td>None</td>\n",
       "      <td>None</td>\n",
       "      <td>None</td>\n",
       "      <td>None</td>\n",
       "      <td>None</td>\n",
       "      <td>material</td>\n",
       "    </tr>\n",
       "  </tbody>\n",
       "</table>\n",
       "</div>"
      ],
      "text/plain": [
       "   repository_url            web_url  code_license   title  logo_url  \\\n",
       "0             NaN  http://afeefa.de/           NaN  Afeefa       NaN   \n",
       "0             NaN  http://afeefa.de/           NaN  Afeefa       NaN   \n",
       "0             NaN  http://afeefa.de/           NaN  Afeefa       NaN   \n",
       "0             NaN  http://afeefa.de/           NaN  Afeefa       NaN   \n",
       "0             NaN  http://afeefa.de/           NaN  Afeefa       NaN   \n",
       "\n",
       "   publishedAt organization_name  \\\n",
       "0          NaN               NaN   \n",
       "0          NaN               NaN   \n",
       "0          NaN               NaN   \n",
       "0          NaN               NaN   \n",
       "0          NaN               NaN   \n",
       "\n",
       "                                 description_content  id user_id  \\\n",
       "0  commented map for Dresden, including lots of d...   1    None   \n",
       "0  commented map for Dresden, including lots of d...   1    None   \n",
       "0  commented map for Dresden, including lots of d...   1    None   \n",
       "0  commented map for Dresden, including lots of d...   1    None   \n",
       "0  commented map for Dresden, including lots of d...   1    None   \n",
       "\n",
       "  description_tech data_license dev_support_needed general_support_needed  \\\n",
       "0             None         None               None                   None   \n",
       "0             None         None               None                   None   \n",
       "0             None         None               None                   None   \n",
       "0             None         None               None                   None   \n",
       "0             None         None               None                   None   \n",
       "\n",
       "  createddAt updatedAt     category  \n",
       "0       None      None  information  \n",
       "0       None      None          map  \n",
       "0       None      None        event  \n",
       "0       None      None     donation  \n",
       "0       None      None     material  "
      ]
     },
     "execution_count": 28,
     "metadata": {},
     "output_type": "execute_result"
    }
   ],
   "source": [
    "category_join.head()"
   ]
  },
  {
   "cell_type": "markdown",
   "metadata": {},
   "source": [
    "Load categories. Create dict to ID. Columns:\n",
    "\n",
    "1. project_id\n",
    "2. category_node_id"
   ]
  },
  {
   "cell_type": "code",
   "execution_count": 22,
   "metadata": {
    "collapsed": true
   },
   "outputs": [],
   "source": [
    "category_nodes_translations_columns = [\"id\", \"category_node_id\", \"title\", \"locale\"]"
   ]
  },
  {
   "cell_type": "code",
   "execution_count": 23,
   "metadata": {
    "collapsed": true
   },
   "outputs": [],
   "source": [
    "categories_german = pd.read_csv(\"category_nodes_translations.csv\", header=None, names=category_nodes_translations_columns)"
   ]
  },
  {
   "cell_type": "code",
   "execution_count": 24,
   "metadata": {
    "collapsed": false
   },
   "outputs": [
    {
     "data": {
      "text/html": [
       "<div>\n",
       "<table border=\"1\" class=\"dataframe\">\n",
       "  <thead>\n",
       "    <tr style=\"text-align: right;\">\n",
       "      <th></th>\n",
       "      <th>id</th>\n",
       "      <th>category_node_id</th>\n",
       "      <th>title</th>\n",
       "      <th>locale</th>\n",
       "    </tr>\n",
       "  </thead>\n",
       "  <tbody>\n",
       "    <tr>\n",
       "      <th>0</th>\n",
       "      <td>1</td>\n",
       "      <td>1</td>\n",
       "      <td>...</td>\n",
       "      <td>de</td>\n",
       "    </tr>\n",
       "    <tr>\n",
       "      <th>1</th>\n",
       "      <td>2</td>\n",
       "      <td>2</td>\n",
       "      <td>Abschiebung</td>\n",
       "      <td>de</td>\n",
       "    </tr>\n",
       "    <tr>\n",
       "      <th>2</th>\n",
       "      <td>3</td>\n",
       "      <td>3</td>\n",
       "      <td>Ankunft</td>\n",
       "      <td>de</td>\n",
       "    </tr>\n",
       "    <tr>\n",
       "      <th>3</th>\n",
       "      <td>4</td>\n",
       "      <td>4</td>\n",
       "      <td>Arbeit</td>\n",
       "      <td>de</td>\n",
       "    </tr>\n",
       "    <tr>\n",
       "      <th>4</th>\n",
       "      <td>5</td>\n",
       "      <td>5</td>\n",
       "      <td>Art d. V.</td>\n",
       "      <td>de</td>\n",
       "    </tr>\n",
       "  </tbody>\n",
       "</table>\n",
       "</div>"
      ],
      "text/plain": [
       "   id  category_node_id        title locale\n",
       "0   1                 1          ...     de\n",
       "1   2                 2  Abschiebung     de\n",
       "2   3                 3      Ankunft     de\n",
       "3   4                 4       Arbeit     de\n",
       "4   5                 5    Art d. V.     de"
      ]
     },
     "execution_count": 24,
     "metadata": {},
     "output_type": "execute_result"
    }
   ],
   "source": [
    "categories_german.head()"
   ]
  },
  {
   "cell_type": "code",
   "execution_count": 25,
   "metadata": {
    "collapsed": true
   },
   "outputs": [],
   "source": [
    "title2id = dict(categories_german[[\"title\", \"category_node_id\"]].itertuples(index=False))"
   ]
  },
  {
   "cell_type": "markdown",
   "metadata": {},
   "source": [
    "Try to find categories from project table in the existing list. Will probably introduce a lot of missing values. A real string search (using different languages) would yield better results."
   ]
  },
  {
   "cell_type": "code",
   "execution_count": 29,
   "metadata": {
    "collapsed": true
   },
   "outputs": [],
   "source": [
    "category_join[\"category_node_id\"] = [title2id.get(category) for category in category_join[\"category\"]]"
   ]
  },
  {
   "cell_type": "code",
   "execution_count": 32,
   "metadata": {
    "collapsed": true
   },
   "outputs": [],
   "source": [
    "project_categories_export = category_join[[\"id\", \"category_node_id\", \"category\"]].copy()"
   ]
  },
  {
   "cell_type": "code",
   "execution_count": 34,
   "metadata": {
    "collapsed": false
   },
   "outputs": [],
   "source": [
    "project_categories_export.rename(columns={\"id\": \"project_id\"}, inplace=True)"
   ]
  },
  {
   "cell_type": "code",
   "execution_count": 36,
   "metadata": {
    "collapsed": false
   },
   "outputs": [
    {
     "data": {
      "text/html": [
       "<div>\n",
       "<table border=\"1\" class=\"dataframe\">\n",
       "  <thead>\n",
       "    <tr style=\"text-align: right;\">\n",
       "      <th></th>\n",
       "      <th>project_id</th>\n",
       "      <th>category_node_id</th>\n",
       "      <th>category</th>\n",
       "    </tr>\n",
       "  </thead>\n",
       "  <tbody>\n",
       "  </tbody>\n",
       "</table>\n",
       "</div>"
      ],
      "text/plain": [
       "Empty DataFrame\n",
       "Columns: [project_id, category_node_id, category]\n",
       "Index: []"
      ]
     },
     "execution_count": 36,
     "metadata": {},
     "output_type": "execute_result"
    }
   ],
   "source": [
    "project_categories_export.dropna(subset=[\"category_node_id\"])"
   ]
  },
  {
   "cell_type": "markdown",
   "metadata": {},
   "source": [
    "Empty table."
   ]
  }
 ],
 "metadata": {
  "kernelspec": {
   "display_name": "Python 3",
   "language": "python",
   "name": "python3"
  },
  "language_info": {
   "codemirror_mode": {
    "name": "ipython",
    "version": 3
   },
   "file_extension": ".py",
   "mimetype": "text/x-python",
   "name": "python",
   "nbconvert_exporter": "python",
   "pygments_lexer": "ipython3",
   "version": "3.4.3"
  }
 },
 "nbformat": 4,
 "nbformat_minor": 0
}
